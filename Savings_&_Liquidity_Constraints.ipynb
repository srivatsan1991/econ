{
  "nbformat": 4,
  "nbformat_minor": 0,
  "metadata": {
    "colab": {
      "name": "Savings & Liquidity Constraints",
      "provenance": [],
      "collapsed_sections": [],
      "authorship_tag": "ABX9TyP07CYFPZYEyft8kUlbMkLB",
      "include_colab_link": true
    },
    "kernelspec": {
      "name": "python3",
      "display_name": "Python 3"
    },
    "language_info": {
      "name": "python"
    }
  },
  "cells": [
    {
      "cell_type": "markdown",
      "metadata": {
        "id": "view-in-github",
        "colab_type": "text"
      },
      "source": [
        "<a href=\"https://colab.research.google.com/github/srivatsan1991/econ/blob/main/Savings_%26_Liquidity_Constraints.ipynb\" target=\"_parent\"><img src=\"https://colab.research.google.com/assets/colab-badge.svg\" alt=\"Open In Colab\"/></a>"
      ]
    },
    {
      "cell_type": "markdown",
      "source": [
        "# \"Savings and Liquidy Constraints\" (Author: Angus Deaton)"
      ],
      "metadata": {
        "id": "hoRjRz6UK2m9"
      }
    },
    {
      "cell_type": "markdown",
      "source": [
        "## Brief Notes:\n",
        "\n",
        "This notebook simply implements the recursion presented in Eq (10) of the paper by Deaton ([link](https://www.princeton.edu/~deaton/downloads/Saving_and_Liquidity_Constraints.pdf))\n",
        "$$\n",
        "p_n(x) = \\text{max}\\left( \\lambda(x), \\beta \\int p_{n-1} \\left[ (1+r)(x - \\lambda^{-1}(p_{n-1}(x))) + y \\right] dF(y) \\right) \n",
        "$$\n",
        "\n",
        "*(there is actually a typo in the RHS in the paper.. It should be $p_{n-1}$ instead of $p_n$ which we have corrected here)*.\n",
        "\n",
        "Starting from $p_0(x) = \\lambda(x)$ (say) and iterating a bunch of times, we expect this recursion to converge to the optimal $p(x)$. \n",
        "\n",
        "Some meanings of the variables (for convenience):\n",
        "- $x$ is the cash in hand\n",
        "- $f(x)$ is the optimal consumption given $x$ cash in hand.\n",
        "- $p(x) = \\lambda(f(x))$ is the marginal utility evaluated at the optimal consumption assuming that the cash in hand is $x$.\n",
        "- Consequently $f(x) = \\lambda^{-1}(p(x))$ and so we can obtain the optimal consumption once we know $p(x)$.\n",
        "- The first term in the above maximization expresses the liquidity constraint. You can never consume more than all the cash in hand, and so the marginal utility can never fall below $\\lambda(x)$ (hence the maximization).\n",
        "- The second term is the discounted expected marginal utility evaluated at the optimal consumption at $t+1$. The discounting is by $\\beta = \\frac{1 + r}{1+\\delta}$, where $r$ is the rate of return and $\\delta$ is the impatience rate. \n",
        "\n",
        "In words this is what is going on in the above equation:\n",
        "At time $t$ there is one decision to be made which is $c_t$, i.e., how much you should consume. You make that decision so that the discounted expected marginal utility evaluated at $c_{t+1}$ is the same as the marginal utility evaluated at $c_t$ if permitted by liquidity constraint ($x_{t} \\geq 0$). If not, you are constrained to spend exactly $x_{t}$ and live hand to mouth. \n",
        "\n",
        "This solution method which defines and computes $p(x)$ is a fairly beautiful way of dealing with the problem by appealing to marginal utility (and figuring out the correct discounting etc). \n",
        "\n",
        "Instead, you can always just setup the value function and its recursion and solve it the usual way. Deaton actually discusses how/why these approaches are equivalent in the paragraph after Eq (12)."
      ],
      "metadata": {
        "id": "oXyUavlVO0Kz"
      }
    },
    {
      "cell_type": "markdown",
      "source": [
        "## The implementation:\n",
        "\n",
        "We take the same values for the parameters as in the paper.\n",
        "\n",
        "- $y \\sim N(\\mu, \\sigma)$ with $\\mu = 100, \\sigma=10,15$.\n",
        "(This part of the simulation is a bit problematic since according to this income can be negative albeit with an ignorably tiny probability (10^-20 or so in this case) so we can ignore negative $y$ when doing the integration.\n",
        "\n",
        "- the $\\lambda(c) = c^{-\\rho}$ with $\\rho = 2,3$.\n",
        "\n",
        "- $ r = .05, \\delta = .10 $.\n",
        "\n",
        "The key part of the simulation is doing the integral over the income distribution - which we do by a naive monte carlo. "
      ],
      "metadata": {
        "id": "m_hrXIjGlRyQ"
      }
    },
    {
      "cell_type": "code",
      "source": [
        "import numpy as np\n",
        "from scipy import optimize\n",
        "from scipy.interpolate import interp1d\n",
        "import matplotlib.pyplot as plt"
      ],
      "metadata": {
        "id": "LanpfWs8MI56"
      },
      "execution_count": 1,
      "outputs": []
    },
    {
      "cell_type": "code",
      "source": [
        "rho = 2\n",
        "mu = 100\n",
        "sigma = 10\n",
        "r = .05\n",
        "delta = .1\n",
        "\n",
        "beta = (1 + r)/(1 + delta)\n",
        "\n",
        "def lmbda(x):\n",
        "  return x ** (-rho)\n",
        "\n",
        "\n",
        "def lmbdainv(y, a=0,b=10000):\n",
        "  def fun(x):\n",
        "    return -y + lmbda(x)\n",
        "  return optimize.bisect(fun, a-y, b-y)\n",
        "\n",
        "\n",
        "def iterate(X, p_old, n_sample = 1000):\n",
        "  p_new = []\n",
        "  p_old_interp = interp1d(X, p_old, fill_value=\"extrapolate\")\n",
        "\n",
        "  for i, x in enumerate(X):\n",
        "    Y = np.random.normal(mu, sigma, n_sample)\n",
        "    \n",
        "    # \\beta \\int p_{n-1}{(1+r)(x - \\lambda^{-1}(p_{n-1}(x))) + y} dF(y) \n",
        "    future_p = [beta * p_old_interp((1+r) * (x - lmbdainv(p_old[i])) + y) for y in Y]\n",
        "    p_new.append(np.max([lmbda(x), np.mean(future_p)]))\n",
        "\n",
        "  return np.array(p_new)\n",
        "\n",
        "plt.xlim([70, 120])\n",
        "plt.ylim([70, 120])\n",
        "\n",
        "XX = np.linspace(10,200,20)\n",
        "PP = lmbda(XX)\n",
        "\n",
        "plt.plot(XX,[lmbdainv(y) for y in PP], label=\"iteration 0\")\n",
        "\n",
        "\n",
        "PP = iterate(XX, PP)\n",
        "PP = iterate(XX, PP)\n",
        "PP = iterate(XX, PP)\n",
        "plt.plot(XX,[lmbdainv(y) for y in PP], label=\"iteration 3\")\n",
        "\n",
        "PP = iterate(XX, PP)\n",
        "PP = iterate(XX, PP)\n",
        "PP = iterate(XX, PP)\n",
        "plt.plot(XX,[lmbdainv(y) for y in PP], label=\"iteration 6\")\n",
        "\n",
        "PP = iterate(XX, PP)\n",
        "PP = iterate(XX, PP)\n",
        "PP = iterate(XX, PP)\n",
        "plt.plot(XX,[lmbdainv(y) for y in PP], label=\"iteration 9\")\n",
        "\n",
        "PP = iterate(XX, PP)\n",
        "PP = iterate(XX, PP)\n",
        "PP = iterate(XX, PP)\n",
        "plt.plot(XX,[lmbdainv(y) for y in PP], label=\"iteration 12\")\n",
        "\n",
        "plt.legend()\n",
        "plt.show()\n",
        "\n"
      ],
      "metadata": {
        "id": "Cgdxf-HBMS1G",
        "colab": {
          "base_uri": "https://localhost:8080/",
          "height": 269
        },
        "outputId": "215355cf-af8f-4efc-f59b-014d66f6dac8"
      },
      "execution_count": 18,
      "outputs": [
        {
          "output_type": "display_data",
          "data": {
            "text/plain": [
              "<Figure size 432x288 with 1 Axes>"
            ],
            "image/png": "[encoded data removed]"
          },
          "metadata": {
            "needs_background": "light"
          }
        }
      ]
    },
    {
      "cell_type": "code",
      "source": [
        ""
      ],
      "metadata": {
        "id": "rsxnkJgNrfWD"
      },
      "execution_count": 14,
      "outputs": []
    },
    {
      "cell_type": "code",
      "source": [
        ""
      ],
      "metadata": {
        "id": "FpdPj5earzqq"
      },
      "execution_count": null,
      "outputs": []
    }
  ]
}